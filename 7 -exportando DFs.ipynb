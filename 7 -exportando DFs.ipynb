{
 "cells": [
  {
   "cell_type": "markdown",
   "metadata": {},
   "source": [
    "# Exportando DFs tratados e filtrados em .xlsx"
   ]
  },
  {
   "cell_type": "code",
   "execution_count": null,
   "metadata": {},
   "outputs": [],
   "source": [
    "# Define save_path\n",
    "save_path = 'c:\\\\Users\\\\João Flavio\\\\Desktop\\\\Code\\\\PyProjects\\\\Leonard\\\\DB Municipios Leonard\\\\DFs Tratados'\n",
    "\n",
    "# Salva DFs em Treated_DFs em loop\n",
    "for df in list(Treated_DFs.keys()):\n",
    "    name = df+'.xlsx'\n",
    "    Treated_DFs[df].to_excel(f'{save_path}\\\\{name}', index = False)"
   ]
  },
  {
   "cell_type": "code",
   "execution_count": null,
   "metadata": {},
   "outputs": [],
   "source": [
    "# Define save_path\n",
    "save_path = 'c:\\\\Users\\\\João Flavio\\\\Desktop\\\\Code\\\\PyProjects\\\\Leonard\\\\DB Municipios Leonard\\\\DFs Tratados\\\\DFs Filtrados'\n",
    "\n",
    "# Salva DFs em Treated_DFs em loop\n",
    "for df in list(Filtered_DFs.keys()):\n",
    "    name = df+'.xlsx'\n",
    "    Filtered_DFs[df].to_excel(f'{save_path}\\\\{name}', index = False)"
   ]
  }
 ],
 "metadata": {
  "language_info": {
   "name": "python"
  },
  "orig_nbformat": 4
 },
 "nbformat": 4,
 "nbformat_minor": 2
}
