{
 "cells": [
  {
   "cell_type": "code",
   "execution_count": null,
   "metadata": {},
   "outputs": [],
   "source": [
    "pip install numpy\n",
    "import numpy as np\n",
    "pip install pandas\n",
    "import pandas as pd\n",
    "pip install chardet\n",
    "import chardet\n",
    "pip install openpyxl\n",
    "pip install xlrd\n",
    "pip install xlwt\n",
    "pip install python-slugify\n",
    "from slugify import slugify\n",
    "from io import StringIO\n",
    "import os\n",
    "import csv\n",
    "import fnmatch\n",
    "import re"
   ]
  }
 ],
 "metadata": {
  "language_info": {
   "name": "python"
  },
  "orig_nbformat": 4
 },
 "nbformat": 4,
 "nbformat_minor": 2
}
