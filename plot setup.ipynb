{
 "cells": [
  {
   "cell_type": "code",
   "execution_count": null,
   "metadata": {},
   "outputs": [],
   "source": [
    "# Setup para criação de Gráficos\n",
    "from matplotlib import pyplot as plt\n",
    "from matplotlib.ticker import ScalarFormatter\n",
    "plt.rcParams['figure.figsize'] = [10,6]"
   ]
  },
  {
   "cell_type": "code",
   "execution_count": null,
   "metadata": {},
   "outputs": [],
   "source": [
    "# Altera configuração de exibição do pandas\n",
    "# Remove notação científica e restringe números a duas casas decimais\n",
    "pd.set_option('display.float_format', lambda x: f'{x:.2f}')\n",
    "\n",
    "# Armazena path para diretório de armazenamento dos gráficos\n",
    "save_path = 'c:\\\\Users\\\\João Flavio\\\\Desktop\\\\Code\\\\PyProjects\\\\Leonard\\\\DB Municipios Leonard\\\\Graphs\\\\Done' \n",
    "\n",
    "# Define função para salvar gráficos com a mesma configuração\n",
    "def save_graph(title, scope):\n",
    "    scope = re.sub(r'\\n', ' ', scope) # re module necessário para lidar com \\n em nomes de municípios transformados\n",
    "    plt.savefig(f'{save_path}\\\\{title}_{scope}.png', dpi = 150, bbox_inches='tight' )"
   ]
  },
  {
   "cell_type": "code",
   "execution_count": null,
   "metadata": {},
   "outputs": [],
   "source": [
    "# Define Dicionário X_labels para transformar X ticks\n",
    "\n",
    "Municipios\n",
    "Nomes = [\n",
    "    'Maceió (AL)',\n",
    "    'Mal. Deodoro (AL)',\n",
    "    'Rio Largo (AL)',\n",
    "    'Belmonte (BA)',\n",
    "    'Eunápolis (BA)',\n",
    "    'Itamaraju (BA)',\n",
    "    'Jucuruçu (BA)',\n",
    "    'Porto Seguro (BA)',\n",
    "    'Prado (BA)',\n",
    "    'Sta Cruz\\nCabrália (BA)',\n",
    "    'Teixeira de\\nFreitas (BA)',\n",
    "    'Abreu e Lima (PE)',\n",
    "    'Cabo de Sto\\nAgostinho (PE)',\n",
    "    'Igarassu (PE)',\n",
    "    'Jaboatão dos\\nGuararapes (PE)',\n",
    "    'Olinda (PE)',\n",
    "    'Paulista (PE)',\n",
    "    'Recife (PE)'\n",
    "]\n",
    "\n",
    "X_labels = dict(zip(Municipios, Nomes))\n",
    "X_labels\n",
    "\n",
    "# Armazena paleta de cores para utilizar nos gráficos\n",
    "c = '#3498db'\n",
    "m = '#e74c3c'\n",
    "y = '#f39c12'\n",
    "g = '#27ae60'\n",
    "p = '#9b59b6'\n",
    "t = '#1abc9c'\n",
    "a = '#34495e'\n",
    "colors = [c, m, y, g, p, t, a]"
   ]
  }
 ],
 "metadata": {
  "language_info": {
   "name": "python"
  },
  "orig_nbformat": 4
 },
 "nbformat": 4,
 "nbformat_minor": 2
}
