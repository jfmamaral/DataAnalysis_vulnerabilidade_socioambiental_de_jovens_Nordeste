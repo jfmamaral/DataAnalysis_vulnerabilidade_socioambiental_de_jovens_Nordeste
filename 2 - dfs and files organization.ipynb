{
 "cells": [
  {
   "cell_type": "code",
   "execution_count": null,
   "metadata": {},
   "outputs": [],
   "source": [
    "# Organização de arquivos importados e dataframes gerados e tratados em um dicionário do projeto\n",
    "\n",
    "Original_Files = {} # Original Files armazena o nome dos dfs importados como keys e os nomes dos arquivos originais como valores\n",
    "Raw_DFs        = {} # Raw_DFs armazena os dfs importados diretamente do arquivo, sem modificações, para garantir resets\n",
    "Working_DFs    = {} # Working_DFs armazena os dfs sendo trabalhados (nomeados df_Nome) momentaneamente\n",
    "Treated_DFs    = {} # Treated_DFS armazena os dfs após limpeza e tratamento (nomeados DF_Nome) para uso posterior para queries e análise\n",
    "Filtered_DFs   = {} # Filtered_DFs armazena DFs menores criados a partir da seleção de dados dos DFs originais\n",
    "\n",
    "Project_Index = [   # Project_Index contém a lista com nomes dos dicionários na ordem em que são armazenados em Project_DFs para facilitar o processo\n",
    "                'Project_Index',\n",
    "                'Original_Files', \n",
    "                'Raw_DFs', \n",
    "                'Working_DFs', \n",
    "                'Treated_DFs', \n",
    "                'Filtered_DFs'\n",
    "                ]\n",
    "\n",
    "Errors_list =   []  # Lista para adição de erros e exceções para tratamento específico\n",
    "\n",
    "Project_DFs   = [   # Project_DFs é a lista que contém todos os dicionários do projeto\n",
    "                Project_Index, \n",
    "                Original_Files, \n",
    "                Raw_DFs, \n",
    "                Working_DFs, \n",
    "                Treated_DFs, \n",
    "                Filtered_DFs,\n",
    "                Errors_list\n",
    "                ]"
   ]
  },
  {
   "cell_type": "code",
   "execution_count": null,
   "metadata": {},
   "outputs": [],
   "source": [
    "# Checando cwd do projeto e arquivos no diretório \n",
    "os.getcwd(), os.listdir()"
   ]
  },
  {
   "cell_type": "code",
   "execution_count": null,
   "metadata": {},
   "outputs": [],
   "source": [
    "# Listando os arquivos de trabalho necessários e anotando demandas de tratamento já identificadas\n",
    "\n",
    "Files = [\n",
    "        'DTB_BRASIL_MUNICIPIO.xls',\n",
    "        'Areas de Risco_Domicilios RAW.xlsx', # associar COD_BATER ao cod. municipal padrão IBGE e adicionar coluna com nome de municipios\n",
    "        'Areas de Risco_Pessoas RAW.xls', # associar COD_BATER ao cod. municipal padrão IBGE e adicionar coluna com nome de municipios\n",
    "        'Mapa INSAN Raw.xlsx', #slugify nomes de municipios\n",
    "        'População.xlsx', # Municipios repetidos, filtrar por cor, sexo e situação domic. em dfs diferentes?\n",
    "        'Educação.xlsx', #slugify nomes de municipios\n",
    "        'Renda e Ocupação.xlsx', # Municipios repetidos, filtrar por cor, sexo e situação domic. em dfs diferentes?\n",
    "        'Pobreza e Vulnerabilidade.xlsx', # Municipios repetidos, filtrar por cor, sexo e situação domic. em dfs diferentes?\n",
    "        'Aglomerados Subnormais.xlsx', #slugify nomes de municipios\n",
    "\n",
    "        '% Pobres Municipal BR 1991-2010.csv', #slugify nomes de municipios\n",
    "        '% de Extremamente Pobres Municipal BR 1991-2010.csv', #slugify nomes de municipios\n",
    "        '% Crianças Pobres Censos (91-2010) Municípios AL BA PE.xlsx', # Nomes municipios com (UF) e colunas vazias\n",
    "        '% Pobres - linha de pobreza baseada em necessidades calóricas - Estadual BR 1976-2014.csv', #slugify UFs\n",
    "        '% Pobreza e Renda Pobreza Municípios Censos (91-2010) AL BA PE.xlsx', # Nomes municipios com (UF) e colunas vazias\n",
    "        'Dados Renda Detalhados Censos (91-2010) Municípios AL BA PE.xlsx', # Nomes municipios com (UF) e colunas vazias\n",
    "        'Renda Domiciliar Estratificada Censos (91-2010) Municípios AL BA PE.xlsx', # Nomes municipios com (UF) e colunas vazias\n",
    "        'Estratificação Renda Censos (91-2010) Municípios AL BA PE.xlsx', # Nomes municipios com (UF) e colunas vazias\n",
    "\n",
    "        'PIB Municipal 1970.csv', #slugify nomes de municipios, checar inexistência de Municipios\n",
    "        'PIB Municipal 1996.csv', #slugify nomes de municipios, checar inexistência de Municipios\n",
    "        'PIB Municipal 2000.csv', #slugify nomes de municipios, checar inexistência de Municipios\n",
    "        'PIB Municipal 2010.csv', #slugify nomes de municipios, checar inexistência de Municipios\n",
    "        'PIB Municipal 2020.csv', #slugify nomes de municipios, checar inexistência de Municipios\n",
    "\n",
    "        '% População com acesso a infraestrutura Censos (91-2010) Municipios AL BA PE.xlsx', # Nomes municipios com (UF) e colunas vazias\n",
    "        '% População com acesso a saneamento SNIS (2017) Municípios AL BA PE.xlsx', # Nomes municipios com (UF) e colunas vazias\n",
    "        '% População vivendo em domicílios precários Censos (91-2010) Municípios AL BA PE.xlsx', # Nomes municipios com (UF) e colunas vazias\n",
    "\n",
    "        'Dados Educação Censos (1991-2010) por Sexo, Cor e Modo de Vida Municípios AL BA PE.xlsx', # Nomes municipios com (UF) e colunas vazias\n",
    "        'Medidas de Desigualdade Censos (91-2010) Municípios AL BA PE.xlsx' # Nomes municipios com (UF) e colunas vazias\n",
    "        ]"
   ]
  }
 ],
 "metadata": {
  "language_info": {
   "name": "python"
  },
  "orig_nbformat": 4
 },
 "nbformat": 4,
 "nbformat_minor": 2
}
